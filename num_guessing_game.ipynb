{
 "cells": [
  {
   "cell_type": "markdown",
   "metadata": {},
   "source": []
  },
  {
   "cell_type": "markdown",
   "metadata": {},
   "source": [
    "Number Guessing game using python\n"
   ]
  },
  {
   "cell_type": "code",
   "execution_count": 2,
   "metadata": {},
   "outputs": [],
   "source": [
    "import random"
   ]
  },
  {
   "cell_type": "code",
   "execution_count": 4,
   "metadata": {},
   "outputs": [
    {
     "name": "stdout",
     "output_type": "stream",
     "text": [
      "Your guess of 5 is too low\n",
      "Your guess of 10 is too low\n",
      "Your guess of 50 is too high\n",
      "Your guess of 25 is too low\n",
      "Your guess of 35 is too low\n",
      "Your guess of 40 is too low\n",
      "right! the answer is 45\n"
     ]
    }
   ],
   "source": [
    "def guessing_game():\n",
    "    answer = random.randint(0,100)\n",
    "\n",
    "    while True:\n",
    "        user_guess = int(input('what is your guess?'))\n",
    "\n",
    "        if user_guess == answer:\n",
    "            print(f'right! the answer is {user_guess}')\n",
    "            break\n",
    "\n",
    "        if user_guess < answer:\n",
    "            print(f'Your guess of {user_guess} is too low')\n",
    "\n",
    "        else :\n",
    "            print(f\"Your guess of {user_guess} is too high\")\n",
    "\n",
    "guessing_game()\n"
   ]
  }
 ],
 "metadata": {
  "interpreter": {
   "hash": "625da06b80329d0829f7fac7255db0074b28a8384e19978863a7b257a844d1b9"
  },
  "kernelspec": {
   "display_name": "Python 3.10.0",
   "language": "python",
   "name": "python3"
  },
  "language_info": {
   "codemirror_mode": {
    "name": "ipython",
    "version": 3
   },
   "file_extension": ".py",
   "mimetype": "text/x-python",
   "name": "python",
   "nbconvert_exporter": "python",
   "pygments_lexer": "ipython3",
   "version": "3.10.0"
  },
  "orig_nbformat": 4
 },
 "nbformat": 4,
 "nbformat_minor": 2
}
