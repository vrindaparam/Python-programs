{
  "nbformat": 4,
  "nbformat_minor": 0,
  "metadata": {
    "colab": {
      "name": "Image Processing in Python - 2022-06-13.ipynb",
      "private_outputs": true,
      "provenance": [],
      "collapsed_sections": [
        "Szo-EKLLqm26",
        "BlTZCFb_w5IV",
        "anuzujCXXMJ7",
        "uSezy8AxkEeF",
        "tMwj7bywWKfd",
        "f2w1yxaFjZ4P",
        "VOxltgU78jfL",
        "4p6s6KN49DhC"
      ],
      "include_colab_link": true
    },
    "kernelspec": {
      "name": "python3",
      "display_name": "Python 3"
    }
  },
  "cells": [
    {
      "cell_type": "markdown",
      "metadata": {
        "id": "view-in-github",
        "colab_type": "text"
      },
      "source": [
        "<a href=\"https://colab.research.google.com/github/vrindaparam/Python-programs/blob/main/Image_Processing_in_Python_2022_06_13.ipynb\" target=\"_parent\"><img src=\"https://colab.research.google.com/assets/colab-badge.svg\" alt=\"Open In Colab\"/></a>"
      ]
    },
    {
      "cell_type": "markdown",
      "metadata": {
        "id": "k4s5hk-BNeRR"
      },
      "source": [
        "# What is an image?"
      ]
    },
    {
      "cell_type": "markdown",
      "metadata": {
        "id": "UNVhRjIsJLKh"
      },
      "source": [
        "For the purposes of this workshop, **\"an image is an array, or a matrix, of square pixels arranged in columns and rows\"**.\n",
        "\n",
        "---\n",
        "\n",
        "In a **grayscale** image, the pixel value determies the shade of gray (0 for black, 255 for white)\n",
        "\n",
        "![grayscale.png](https://miro.medium.com/max/533/1*Ev5QaW5IsjmYa1vzVPniUw.png)\n",
        "\n",
        "---\n",
        "\n",
        "In a **colour** image, each pixel has three *channels*, which correspond to Red, Green, and Blue. The intensity of these channels determine how Red, or Green, or Blue the pixel is. Since any other colour can be made out of these three colours, the combination of these channels can create any colour in the human-visible spectrum.\n",
        "\n",
        "![colour.png](https://upload.wikimedia.org/wikipedia/commons/thumb/4/4d/Pixel_geometry_01_Pengo.jpg/200px-Pixel_geometry_01_Pengo.jpg)"
      ]
    },
    {
      "cell_type": "markdown",
      "metadata": {
        "id": "Wt_NtxQVxCY1"
      },
      "source": [
        "# Image properties"
      ]
    },
    {
      "cell_type": "code",
      "metadata": {
        "id": "-9sv4g4zt2PV"
      },
      "source": [
        "import matplotlib.pyplot as plt\n",
        "import numpy as np\n",
        "import requests\n",
        "\n",
        "from PIL import Image, ImageEnhance"
      ],
      "execution_count": null,
      "outputs": []
    },
    {
      "cell_type": "markdown",
      "metadata": {
        "id": "hwnZa-kYG-p9"
      },
      "source": [
        "## First look at the image"
      ]
    },
    {
      "cell_type": "code",
      "metadata": {
        "id": "bEo5gl3CGDgE"
      },
      "source": [
        "img_url = 'https://upload.wikimedia.org/wikipedia/en/7/7d/Lenna_%28test_image%29.png'\n",
        "Image.open(requests.get(img_url, stream=True).raw)"
      ],
      "execution_count": null,
      "outputs": []
    },
    {
      "cell_type": "markdown",
      "metadata": {
        "id": "jB4kYCt5HFWO"
      },
      "source": [
        "## Saving the image as an array"
      ]
    },
    {
      "cell_type": "code",
      "metadata": {
        "id": "5uriTHbsGhGE"
      },
      "source": [
        "img_arr = np.asarray(Image.open(requests.get(img_url, stream=True).raw))"
      ],
      "execution_count": null,
      "outputs": []
    },
    {
      "cell_type": "markdown",
      "metadata": {
        "id": "6Az-aVt1HoTd"
      },
      "source": [
        "## Checking image dimensions"
      ]
    },
    {
      "cell_type": "code",
      "metadata": {
        "id": "l5di9rvCHaMa"
      },
      "source": [
        "img_arr.shape"
      ],
      "execution_count": null,
      "outputs": []
    },
    {
      "cell_type": "markdown",
      "source": [
        "3 - pixels (RGB)\n",
        "512*512 - image pixel"
      ],
      "metadata": {
        "id": "m7gI1spzTcKp"
      }
    },
    {
      "cell_type": "markdown",
      "metadata": {
        "id": "Ff9Ls5a2HzUR"
      },
      "source": [
        "##### <font color=yellow>Question </font>   \n",
        "What information do you get from the shape of the image array?"
      ]
    },
    {
      "cell_type": "markdown",
      "metadata": {
        "id": "Szo-EKLLqm26"
      },
      "source": [
        "##### <font color=green><b> Solution </b></font>\n",
        "Check the contents of `img_arr` to get a hint"
      ]
    },
    {
      "cell_type": "code",
      "metadata": {
        "id": "5arT9qH9Hr9V"
      },
      "source": [
        "img_arr"
      ],
      "execution_count": null,
      "outputs": []
    },
    {
      "cell_type": "markdown",
      "metadata": {
        "id": "ggEfTuH4w5IS"
      },
      "source": [
        "##### <font color=yellow>Question </font>   \n",
        "What is the maximum and minimum brightness an image can have in absolute terms? How do we find the brightness of the image as a percentage?"
      ]
    },
    {
      "cell_type": "markdown",
      "metadata": {
        "id": "BlTZCFb_w5IV"
      },
      "source": [
        "##### <font color=green><b> Solution </b></font>\n",
        "Click below to see the solution"
      ]
    },
    {
      "cell_type": "code",
      "metadata": {
        "id": "bmQjrAkIw5IW"
      },
      "source": [
        "img_arr.mean()*100/255"
      ],
      "execution_count": null,
      "outputs": []
    },
    {
      "cell_type": "markdown",
      "metadata": {
        "id": "tXC6px2ne_Vy"
      },
      "source": [
        "# Tweaking image properties\n",
        "\n",
        "We will now change a few image properties like brightness, color, contrast, and sharpness by a factor ranging from 0 to 2.\n",
        "\n",
        "To do this, we use the Python Imaging Library (`PIL`)'s `ImageEnhance` function. `ImageEnhance`'s `Brightness()`, `Color()`, and `Contrast()`  all load the image; then, we can use their `enhance()` methods to enhance those properties by any factor we choose."
      ]
    },
    {
      "cell_type": "markdown",
      "metadata": {
        "id": "AOzBDEiYOtcu"
      },
      "source": [
        "#### Changing Brightness"
      ]
    },
    {
      "cell_type": "code",
      "metadata": {
        "id": "lYsXCNggOtcw"
      },
      "source": [
        "plt.figure(figsize=(10, 12))\n",
        "\n",
        "for i, factor in enumerate(np.linspace(0, 2, 9)):\n",
        "  plt.subplot(3, 3, i+1)\n",
        "  plt.xticks([])\n",
        "  plt.yticks([])\n",
        "  plt.grid(False)\n",
        "  plt.imshow(np.asarray(ImageEnhance.Brightness(Image.fromarray(img_arr)).enhance(factor)))\n",
        "  plt.xlabel(factor)\n",
        "\n",
        "plt.suptitle('Changing Brightness', fontsize=20)\n",
        "plt.tight_layout()\n",
        "plt.show()"
      ],
      "execution_count": null,
      "outputs": []
    },
    {
      "cell_type": "markdown",
      "metadata": {
        "id": "tnSENO8zwaJt"
      },
      "source": [
        "At the pixel level, each pixel is simply multiplied by the factor to get its new value."
      ]
    },
    {
      "cell_type": "code",
      "metadata": {
        "id": "OacTNzfGb-vR"
      },
      "source": [
        "print(f\"1st pixel of the original image:\\n{img_arr[0, 0]}\\n\")\n",
        "\n",
        "print(f\"Enhancing brightness by a factor of 0:\\n\\\n",
        "{np.asarray(ImageEnhance.Brightness(Image.fromarray(img_arr)).enhance(0))[0, 0]} \\\n",
        "--> Absolute Black\\n\")\n",
        "\n",
        "print(f\"Enhancing brightness by a factor of 1:\\n\\\n",
        "{np.asarray(ImageEnhance.Brightness(Image.fromarray(img_arr)).enhance(1))[0, 0]} \\\n",
        "--> Same as original\\n\")\n",
        "\n",
        "print(f\"Enhancing brightness by a factor of 2:\\n\\\n",
        "{np.asarray(ImageEnhance.Brightness(Image.fromarray(img_arr)).enhance(2))[0, 0]} \\\n",
        "--> Almost White\")"
      ],
      "execution_count": null,
      "outputs": []
    },
    {
      "cell_type": "markdown",
      "metadata": {
        "id": "4obebrqgVTeJ"
      },
      "source": [
        "##### <font color=yellow><b> Question </b></font>\n",
        "How will each of the below pixels change if `factor=0` and `factor=255`, and why?"
      ]
    },
    {
      "cell_type": "code",
      "metadata": {
        "id": "Que8ROp7U6bM"
      },
      "source": [
        "pixels = np.asarray([[(255, 0, 0), (0, 255, 0), (0, 0, 255)], \n",
        "          [(200, 150, 100), (150, 200, 100), (100, 150, 200)],\n",
        "          [(0, 0, 0), (255, 255, 255), (127, 127, 127)]], dtype=np.uint8)\n",
        "\n",
        "print(pixels)\n",
        "plt.imshow(Image.fromarray(pixels));"
      ],
      "execution_count": null,
      "outputs": []
    },
    {
      "cell_type": "markdown",
      "metadata": {
        "id": "anuzujCXXMJ7"
      },
      "source": [
        "##### <font color=green><b> Solution </b></font>\n",
        "Click below to see the solution"
      ]
    },
    {
      "cell_type": "code",
      "metadata": {
        "id": "zMkR_CkdWg_s"
      },
      "source": [
        "plt.figure(figsize=(15, 10))\n",
        "\n",
        "for i, factor in enumerate([0, 0.5, 1, 1.5, 2, 255]):\n",
        "  plt.subplot(1, 6, i+1)\n",
        "  plt.xticks([])\n",
        "  plt.yticks([])\n",
        "  plt.grid(False)\n",
        "  enhanced_pixels = np.asarray(ImageEnhance.Brightness(Image.fromarray(pixels)).enhance(factor))\n",
        "  plt.imshow(enhanced_pixels)\n",
        "  plt.xlabel(f\"factor={factor}\\n{enhanced_pixels}\")\n",
        "\n",
        "plt.tight_layout()\n",
        "plt.show()"
      ],
      "execution_count": null,
      "outputs": []
    },
    {
      "cell_type": "markdown",
      "metadata": {
        "id": "UmwOeRs8j5zR"
      },
      "source": [
        "##### <font color=yellow><b> Question </b></font>\n",
        "How will the below look like if `factor=10`, and why?"
      ]
    },
    {
      "cell_type": "code",
      "metadata": {
        "id": "4QUJE_uOWJcr"
      },
      "source": [
        "plt.figure(figsize=(12, 15))\n",
        "plt.xticks([])\n",
        "plt.yticks([])\n",
        "plt.grid(False)\n",
        "plt.imshow(np.asarray(img_arr));"
      ],
      "execution_count": null,
      "outputs": []
    },
    {
      "cell_type": "markdown",
      "metadata": {
        "id": "uSezy8AxkEeF"
      },
      "source": [
        "##### <font color=green><b> Solution </b></font>\n",
        "Click below to see the solution"
      ]
    },
    {
      "cell_type": "code",
      "metadata": {
        "id": "63St0D1-iO4n"
      },
      "source": [
        "plt.figure(figsize=(12, 15))\n",
        "plt.xticks([])\n",
        "plt.yticks([])\n",
        "plt.grid(False)\n",
        "plt.imshow(np.asarray(ImageEnhance.Brightness(Image.fromarray(img_arr)).enhance(10)));"
      ],
      "execution_count": null,
      "outputs": []
    },
    {
      "cell_type": "markdown",
      "source": [
        "##### <font color=yellow><b> Question </b></font>\n",
        "Why do we see patches of purple?"
      ],
      "metadata": {
        "id": "gzdSblvOWEO_"
      }
    },
    {
      "cell_type": "markdown",
      "source": [
        "##### <font color=green><b> Hint </b></font>\n",
        "Click below to see a hint"
      ],
      "metadata": {
        "id": "tMwj7bywWKfd"
      }
    },
    {
      "cell_type": "code",
      "metadata": {
        "id": "BRIIUzDslQ5l"
      },
      "source": [
        "pixels = np.asarray([[(0, 1, 1), (1, 0, 1), (1, 1, 0)]], dtype=np.uint8)\n",
        "print(pixels)\n",
        "plt.xticks([])\n",
        "plt.yticks([])\n",
        "plt.grid(False)\n",
        "plt.imshow(Image.fromarray(pixels));"
      ],
      "execution_count": null,
      "outputs": []
    },
    {
      "cell_type": "code",
      "metadata": {
        "id": "lRkMQk5OcDVB"
      },
      "source": [
        "enhanced_pixels = np.asarray(ImageEnhance.Brightness(Image.fromarray(pixels)).enhance(255))\n",
        "print(enhanced_pixels)\n",
        "plt.xticks([])\n",
        "plt.yticks([])\n",
        "plt.grid(False)\n",
        "plt.imshow(Image.fromarray(enhanced_pixels));"
      ],
      "execution_count": null,
      "outputs": []
    },
    {
      "cell_type": "markdown",
      "metadata": {
        "id": "NdkatxezfJRY"
      },
      "source": [
        "#### Changing Color Intensity (Saturation)"
      ]
    },
    {
      "cell_type": "code",
      "metadata": {
        "id": "PKAHdFDRfJRZ"
      },
      "source": [
        "plt.figure(figsize=(10, 12))\n",
        "\n",
        "for i, factor in enumerate(np.linspace(0, 2, 9)):\n",
        "  plt.subplot(3, 3, i+1)\n",
        "  plt.xticks([])\n",
        "  plt.yticks([])\n",
        "  plt.grid(False)\n",
        "  plt.imshow(np.asarray(ImageEnhance.Color(Image.fromarray(img_arr)).enhance(factor)))\n",
        "  plt.xlabel(factor)\n",
        "\n",
        "\n",
        "plt.suptitle('Changing saturation', fontsize=20)\n",
        "plt.tight_layout()\n",
        "plt.show()"
      ],
      "execution_count": null,
      "outputs": []
    },
    {
      "cell_type": "markdown",
      "metadata": {
        "id": "wZeOQFCZfJRa"
      },
      "source": [
        "Saturation is basically a measure of the relative intensity of colors in an image.  \n",
        "Decreasing the saturation reduces the difference between the values of individual color channels in a pixel by bringing them closer to their average (i.e., converts the pixel into greyscale).  \n",
        "Increasing the saturation increases the difference, enhancing the already dominant colors even more."
      ]
    },
    {
      "cell_type": "code",
      "metadata": {
        "id": "Sdj9MPcHfJRa"
      },
      "source": [
        "print(f\"1st pixel of the original image:\\n{img_arr[0, 0]}\")\n",
        "print(f\"Enhancing color by a factor of 0:\\n\\\n",
        "{np.asarray(ImageEnhance.Color(Image.fromarray(img_arr)).enhance(0))[0, 0]} --> \\\n",
        "Colors are brought closer to their average\")\n",
        "print(f\"Enhancing color by a factor of 1:\\n\\\n",
        "{np.asarray(ImageEnhance.Color(Image.fromarray(img_arr)).enhance(1))[0, 0]}\")\n",
        "print(f\"Enhancing color by a factor of 2:\\n\\\n",
        "{np.asarray(ImageEnhance.Color(Image.fromarray(img_arr)).enhance(2))[0, 0]} --> \\\n",
        "Colors are brought further apart from their average\")"
      ],
      "execution_count": null,
      "outputs": []
    },
    {
      "cell_type": "code",
      "metadata": {
        "id": "I0o51tyJbwF9"
      },
      "source": [
        "pixels = np.asarray([[(255, 0, 0), (0, 255, 0), (0, 0, 255)], \n",
        "          [(200, 150, 100), (150, 200, 100), (100, 150, 200)],\n",
        "          [(0, 0, 0), (255, 255, 255), (127, 127, 127)]], dtype=np.uint8)\n",
        "\n",
        "print(pixels)\n",
        "plt.xticks([])\n",
        "plt.yticks([])\n",
        "plt.grid(False)\n",
        "plt.imshow(Image.fromarray(pixels));"
      ],
      "execution_count": null,
      "outputs": []
    },
    {
      "cell_type": "markdown",
      "metadata": {
        "id": "C8B8-830iVpf"
      },
      "source": [
        "##### <font color=yellow>**Question** </font>\n",
        "How will the above pixels change if `factor=0` and `factor=2`, and why?"
      ]
    },
    {
      "cell_type": "markdown",
      "metadata": {
        "id": "f2w1yxaFjZ4P"
      },
      "source": [
        "##### <font color=green><b> Solution </b></font>\n",
        "Click below to see the solution"
      ]
    },
    {
      "cell_type": "code",
      "metadata": {
        "id": "S_SXfETYdNv0"
      },
      "source": [
        "enhanced_pixels = np.asarray(ImageEnhance.Color(Image.fromarray(np.asarray(pixels, dtype=np.uint8))).enhance(0))\n",
        "print(enhanced_pixels)\n",
        "plt.xticks([])\n",
        "plt.yticks([])\n",
        "plt.grid(False)\n",
        "plt.imshow(enhanced_pixels);"
      ],
      "execution_count": null,
      "outputs": []
    },
    {
      "cell_type": "markdown",
      "metadata": {
        "id": "VzWBHqm2lbFN"
      },
      "source": [
        "**Note:** The actual pixel values are not equal to the average as `PIL.ImageEnhance` does not use a direct formula to manipulate pixels, but actually interpolates (blends) the original image with a transformed image by the given factor. [This](https://stackoverflow.com/a/59171242/9792001) stackoverflow answer explains it pretty well with an example."
      ]
    },
    {
      "cell_type": "code",
      "metadata": {
        "id": "0c4vos4ogdHw"
      },
      "source": [
        "enhanced_pixels = np.asarray(ImageEnhance.Color(Image.fromarray(np.asarray(pixels, dtype=np.uint8))).enhance(2))\n",
        "print(enhanced_pixels)\n",
        "plt.xticks([])\n",
        "plt.yticks([])\n",
        "plt.grid(False)\n",
        "plt.imshow(enhanced_pixels);"
      ],
      "execution_count": null,
      "outputs": []
    },
    {
      "cell_type": "markdown",
      "metadata": {
        "id": "A7CZjFlloHJe"
      },
      "source": [
        "#### Changing Contrast"
      ]
    },
    {
      "cell_type": "code",
      "metadata": {
        "id": "xruYihf5inqv"
      },
      "source": [
        "plt.figure(figsize=(10, 12))\n",
        "\n",
        "for i, factor in enumerate(np.linspace(0, 2, 9)):\n",
        "  plt.subplot(3, 3, i+1)\n",
        "  plt.xticks([])\n",
        "  plt.yticks([])\n",
        "  plt.grid(False)\n",
        "  plt.imshow(np.asarray(ImageEnhance.Contrast(Image.fromarray(img_arr)).enhance(factor)))\n",
        "  plt.xlabel(factor)\n",
        "\n",
        "plt.suptitle('Changing Contrast', fontsize=20)\n",
        "plt.tight_layout()\n",
        "plt.show()"
      ],
      "execution_count": null,
      "outputs": []
    },
    {
      "cell_type": "markdown",
      "metadata": {
        "id": "NIc3wH7odyD1"
      },
      "source": [
        "Contrast is basically the difference in brightness between pixels. Increasing contrast increases this difference, while decreasing contrast decreases it.\n",
        "\n",
        "Further reading: [Difference between contrast and saturation](https://www.quora.com/What-are-the-differences-between-saturation-and-contrast-in-photography)"
      ]
    },
    {
      "cell_type": "code",
      "metadata": {
        "id": "MzdFKN-GjzgC"
      },
      "source": [
        "# At the pixel level\n",
        "\n",
        "plt.figure(figsize=(15, 10))\n",
        "\n",
        "for i, factor in enumerate([0, 0.5, 1, 1.5, 2, 255]):\n",
        "  plt.subplot(1, 6, i+1)\n",
        "  plt.xticks([])\n",
        "  plt.yticks([])\n",
        "  plt.grid(False)\n",
        "  enhanced_pixels = np.asarray(ImageEnhance.Contrast(Image.fromarray(pixels)).enhance(factor))\n",
        "  plt.imshow(enhanced_pixels)\n",
        "  plt.xlabel(f\"factor={factor}\\n\\nPixels:\\n{enhanced_pixels}\\n\\nStd. deviation:\\n{enhanced_pixels.std():.0f}\")\n",
        "\n",
        "plt.tight_layout()\n",
        "plt.show()"
      ],
      "execution_count": null,
      "outputs": []
    },
    {
      "cell_type": "markdown",
      "metadata": {
        "id": "q9WavSxTo-UO"
      },
      "source": [
        "### Flipping and Rotating images\n",
        "\n",
        "<font color=yellow>**Question:** What is the difference between flipping and rotating an image?</font>  "
      ]
    },
    {
      "cell_type": "markdown",
      "metadata": {
        "id": "pXCnEG2bGWmI"
      },
      "source": [
        "#### Flipping\n",
        "\n",
        "For flip, we will use `cv2.flip()`. It takes the image and a value between 0, 1 and -1.  \n",
        "* For 0, the image is flipped vertically  \n",
        "* For 1, the image is flipped horizontally\n",
        "* For -1, the image is flipped both horizontally and vertically"
      ]
    },
    {
      "cell_type": "code",
      "metadata": {
        "id": "zViVKzJ9jyO7"
      },
      "source": [
        "import cv2"
      ],
      "execution_count": null,
      "outputs": []
    },
    {
      "cell_type": "code",
      "metadata": {
        "id": "cCDGKgbWlRC2"
      },
      "source": [
        "plt.xticks([])\n",
        "plt.yticks([])\n",
        "plt.grid(False)\n",
        "plt.imshow(img_arr);"
      ],
      "execution_count": null,
      "outputs": []
    },
    {
      "cell_type": "code",
      "metadata": {
        "id": "ewUmNg69j3tP"
      },
      "source": [
        "plt.figure(figsize=(12, 5))\n",
        "\n",
        "for i, factor in enumerate([0, 1, -1]):\n",
        "  plt.subplot(1, 3, i+1)\n",
        "  plt.xticks([])\n",
        "  plt.yticks([])\n",
        "  plt.grid(False)\n",
        "  plt.imshow(cv2.flip(img_arr, factor))\n",
        "  plt.xlabel(factor)\n",
        "\n",
        "plt.suptitle('Flipped images', fontsize=20)\n",
        "plt.tight_layout()\n",
        "plt.show()"
      ],
      "execution_count": null,
      "outputs": []
    },
    {
      "cell_type": "markdown",
      "metadata": {
        "id": "o5xdLTvB8jfJ"
      },
      "source": [
        "##### <font color=yellow>**Question** </font>\n",
        "How will the below image array change for different flips?\n",
        "```\n",
        "[[0 1 2]  \n",
        " [3 4 5]  \n",
        " [6 7 8]]\n",
        "```"
      ]
    },
    {
      "cell_type": "markdown",
      "metadata": {
        "id": "VOxltgU78jfL"
      },
      "source": [
        "##### <font color=green><b> Solution </b></font>\n",
        "Click below to see the solution"
      ]
    },
    {
      "cell_type": "code",
      "metadata": {
        "id": "EhhdDJe86_Sb"
      },
      "source": [
        "pixels = np.asarray([(0, 1, 2), \n",
        "                     (3, 4, 5),\n",
        "                     (6, 7, 8)], dtype=np.uint8)\n",
        "\n",
        "print(f\"Original image pixels:\\n{pixels}\\n\")\n",
        "print(f\"Flipped vertically:\\n{cv2.flip(pixels, 0)}\\n\") \n",
        "print(f\"Flipped horizontally:\\n{cv2.flip(pixels, 1)}\\n\") \n",
        "print(f\"Flipped both vertially and horizontally:\\n{cv2.flip(pixels, -1)}\") "
      ],
      "execution_count": null,
      "outputs": []
    },
    {
      "cell_type": "markdown",
      "metadata": {
        "id": "CZ82cdxdHSKg"
      },
      "source": [
        "#### Rotating\n",
        "\n",
        "Rotating is straightforward. We load the image from the image array and rotate it by as many degrees as we want.  "
      ]
    },
    {
      "cell_type": "code",
      "metadata": {
        "id": "t5igXJnIsO4x"
      },
      "source": [
        "plt.figure(figsize=(18, 4))\n",
        "\n",
        "for i, angle in enumerate([0, 45, 90, 180, 270]):\n",
        "  plt.subplot(1, 5, i+1)\n",
        "  plt.xticks([])\n",
        "  plt.yticks([])\n",
        "  plt.grid(False)\n",
        "  plt.imshow(Image.fromarray(img_arr, 'RGB').rotate(angle))\n",
        "  plt.xlabel(angle)\n",
        "\n",
        "plt.suptitle('Rotated images', fontsize=20)\n",
        "plt.tight_layout()\n",
        "plt.show()"
      ],
      "execution_count": null,
      "outputs": []
    },
    {
      "cell_type": "markdown",
      "metadata": {
        "id": "0EYcsKOS9DhB"
      },
      "source": [
        "##### <font color=yellow>**Question** </font>\n",
        "How will the below image array change if rotated by 90&deg;, 180&deg;, and 270&deg;?\n",
        "```\n",
        "[[0 1 2]  \n",
        " [3 4 5]  \n",
        " [6 7 8]]\n",
        "```"
      ]
    },
    {
      "cell_type": "markdown",
      "metadata": {
        "id": "4p6s6KN49DhC"
      },
      "source": [
        "##### <font color=green><b> Solution </b></font>\n",
        "Click below to see the solution"
      ]
    },
    {
      "cell_type": "code",
      "metadata": {
        "id": "l-64GARl9DhC"
      },
      "source": [
        "pixels = np.asarray([(0, 1, 2), \n",
        "                     (3, 4, 5),\n",
        "                     (6, 7, 8)], dtype=np.uint8)\n",
        "\n",
        "print(f\"Original image pixels:\\n{pixels}\\n\")\n",
        "print(f\"Rotated 90 degrees:\\n{np.rot90(pixels, k=1)}\\n\") \n",
        "print(f\"Rotated 180 degrees:\\n{np.rot90(pixels, k=2)}\\n\") \n",
        "print(f\"Rotated 270 degrees:\\n{np.rot90(pixels, k=3)}\") \n",
        "print(f\"Rotated  degrees:\\n{np.rot90(pixels, k=5)}\") "
      ],
      "execution_count": null,
      "outputs": []
    },
    {
      "cell_type": "markdown",
      "source": [
        "# Saving and downloading the image"
      ],
      "metadata": {
        "id": "9sVAx_HsxF1Z"
      }
    },
    {
      "cell_type": "markdown",
      "source": [
        "## Saving the image"
      ],
      "metadata": {
        "id": "t4THs5TqYpws"
      }
    },
    {
      "cell_type": "code",
      "source": [
        "Image.fromarray(img_arr).save(\"image.jpg\")"
      ],
      "metadata": {
        "id": "pbD4uiUVXmHB"
      },
      "execution_count": null,
      "outputs": []
    },
    {
      "cell_type": "markdown",
      "source": [
        "The saved image will be visible in the file explorer pane on the left."
      ],
      "metadata": {
        "id": "GL1MaTRQYVlD"
      }
    },
    {
      "cell_type": "markdown",
      "source": [
        "## Downloading programatically"
      ],
      "metadata": {
        "id": "ZZgwgN1kYtFV"
      }
    },
    {
      "cell_type": "code",
      "source": [
        "from google.colab import files\n",
        "\n",
        "files.download(\"image.jpg\")"
      ],
      "metadata": {
        "id": "A_JtVC0GYvIx"
      },
      "execution_count": null,
      "outputs": []
    },
    {
      "cell_type": "markdown",
      "metadata": {
        "id": "PikNPBPDAruV"
      },
      "source": [
        "# Wrapping up...\n",
        "\n",
        "## What we've learnt?\n",
        "1. Digital representation of an image, and how a monochrome image is different from a coloured one\n",
        "2. How to perform basic image adjustments like brightness, saturation, contrast, and orientation\n",
        "3. How to save and download altered images from Google colab.\n",
        "\n",
        "## Where can this knowledge be used?\n",
        "1. Enhance/correct your photos without using 3rd party software\n",
        "1. **Image augmentation:** Increasing the size of your dataset for model training. *How?*"
      ]
    },
    {
      "cell_type": "markdown",
      "metadata": {
        "id": "awvUszDrrCvn"
      },
      "source": [
        "\n",
        "\n",
        "**Siddhant Sadangi** ([LinkedIn](https://www.linkedin.com/in/siddhantsadangi), [Email](mailto:siddhant.sadangi@gmail.com))"
      ]
    }
  ]
}